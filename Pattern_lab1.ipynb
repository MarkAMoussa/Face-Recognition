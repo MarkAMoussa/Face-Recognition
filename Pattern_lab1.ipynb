{
  "nbformat": 4,
  "nbformat_minor": 0,
  "metadata": {
    "colab": {
      "name": "Pattern lab1.ipynb",
      "provenance": [],
      "collapsed_sections": []
    },
    "kernelspec": {
      "display_name": "Python 3",
      "name": "python3"
    }
  },
  "cells": [
    {
      "cell_type": "markdown",
      "metadata": {
        "id": "2h6J7OhBzTrr"
      },
      "source": [
        "# **UNZIPPING**"
      ]
    },
    {
      "cell_type": "code",
      "metadata": {
        "id": "Pi95NJpCY79U"
      },
      "source": [
        "# open the zip file in the notebook\n",
        "!unzip /content/archive.zip"
      ],
      "execution_count": null,
      "outputs": []
    },
    {
      "cell_type": "markdown",
      "metadata": {
        "id": "WwBGTKuatBmI"
      },
      "source": [
        "# **Imports**"
      ]
    },
    {
      "cell_type": "code",
      "metadata": {
        "id": "kWMELzZluExU"
      },
      "source": [
        "import cv2 \n",
        "import numpy as np\n",
        "from numpy import linalg as LA\n",
        "from sklearn.neighbors import KNeighborsClassifier\n",
        "from sklearn.metrics import accuracy_score\n",
        "import matplotlib.pyplot as plt"
      ],
      "execution_count": null,
      "outputs": []
    },
    {
      "cell_type": "markdown",
      "metadata": {
        "id": "8S4v0IBtMVIF"
      },
      "source": [
        "# **Reading the Images**"
      ]
    },
    {
      "cell_type": "code",
      "metadata": {
        "colab": {
          "base_uri": "https://localhost:8080/"
        },
        "id": "k3k3IW7rBXOV",
        "outputId": "a286a49b-c6ee-4a49-ebee-762b24db30cc"
      },
      "source": [
        "img_matrix=[]\n",
        "# to change the image into a vector \n",
        "for i in range (1,41):\n",
        "  folder_name='s'+str(i)\n",
        "  img_dir = \"/content/\"+folder_name # Enter Directory of all images   \n",
        "  for j in range(1,11):\n",
        "      img_path=img_dir+'/'+str(j)+'.pgm'\n",
        "      img = cv2.imread(img_path,-1).flatten()\n",
        "      img_matrix.append(img)\n",
        "vector_x=np.array(img_matrix) # containt the images as vector\n",
        "print(vector_x.shape)"
      ],
      "execution_count": null,
      "outputs": [
        {
          "output_type": "stream",
          "text": [
            "(400, 10304)\n"
          ],
          "name": "stdout"
        }
      ]
    },
    {
      "cell_type": "code",
      "metadata": {
        "id": "JDfBN42RECqr"
      },
      "source": [
        "label_matrix=[]\n",
        "for i in range(1,41):\n",
        "  for j in range (1,11):\n",
        "    label_matrix.append(str(i))\n",
        "vector_y=np.array(label_matrix)"
      ],
      "execution_count": null,
      "outputs": []
    },
    {
      "cell_type": "markdown",
      "metadata": {
        "id": "PSVI7Og-u4oz"
      },
      "source": [
        "# **Splitting 50/50**"
      ]
    },
    {
      "cell_type": "code",
      "metadata": {
        "id": "ibTdWhu5Fclx"
      },
      "source": [
        "Test_set_Data = []\n",
        "Training_set_Data  =[]\n",
        "Test_set_labels = []\n",
        "Training_set_labels=[]\n",
        "\n",
        "#  keep the odd rows for training and the even rows for testing\n",
        "for i in range (400):\n",
        "  if i%2==0:\n",
        "    Test_set_Data.append(vector_x[i])\n",
        "    Test_set_labels.append(vector_y[i])\n",
        "  else : \n",
        "    Training_set_Data.append(vector_x[i])\n",
        "    Training_set_labels.append(vector_y[i])\n",
        "\n",
        "\n",
        "Test_set_Data=np.array(Test_set_Data)\n",
        "Test_set_labels=np.array(Test_set_labels)\n",
        "\n",
        "Training_set_Data=np.array(Training_set_Data)\n",
        "Training_set_labels=np.array(Training_set_labels)"
      ],
      "execution_count": null,
      "outputs": []
    },
    {
      "cell_type": "markdown",
      "metadata": {
        "id": "Mks0uGfftJ3k"
      },
      "source": [
        "# **Eigen Values and Vectors**"
      ]
    },
    {
      "cell_type": "code",
      "metadata": {
        "id": "BjIoQs1Obi3-"
      },
      "source": [
        "def Eigen_Generator (training_Data):\n",
        "  Covariance_matrix=np.cov(training_Data,rowvar=False)\n",
        "  Eigen_val, Eigen_vector=LA.eigh(Covariance_matrix)\n",
        "  Eigen_val =Eigen_val [::-1]\n",
        "  Eigen_vector = Eigen_vector [::-1]\n",
        "  return Eigen_val,Eigen_vector\n",
        "\n",
        "Eigen_val, Eigen_vector = Eigen_Generator(Training_set_Data)\n",
        "total_Eigen_vals = np.sum(abs(Eigen_val))"
      ],
      "execution_count": null,
      "outputs": []
    },
    {
      "cell_type": "markdown",
      "metadata": {
        "id": "u96yhMsbm0EP"
      },
      "source": [
        "# **Reduction of Dimensions**"
      ]
    },
    {
      "cell_type": "code",
      "metadata": {
        "id": "3_GehzEft31s"
      },
      "source": [
        "def Projecting_Data(alpha,Eigen_val,Eigen_vector,Training_set_Data,Test_set_Data):\n",
        "  U_matrix=[]\n",
        "  sum=0\n",
        "  counter=1\n",
        "  for i in range (len(Eigen_val)):\n",
        "    sum=sum+Eigen_val[i]\n",
        "    fr = sum/total_Eigen_vals\n",
        "    if fr < alpha:\n",
        "      counter = counter + 1\n",
        "    else:\n",
        "      break\n",
        "  print(\"Reduced Dimensions:\",counter)\n",
        "  for i in range(counter):\n",
        "    U_matrix.append(Eigen_vector[i])\n",
        "  prj_train = np.dot(Training_set_Data,np.array(U_matrix).transpose())\n",
        "  prj_test  = np.dot(Test_set_Data,np.array(U_matrix).transpose())\n",
        "  return prj_train,prj_test"
      ],
      "execution_count": null,
      "outputs": []
    },
    {
      "cell_type": "markdown",
      "metadata": {
        "id": "rkzzmYY8uuip"
      },
      "source": [
        "# **Projecting Data**"
      ]
    },
    {
      "cell_type": "code",
      "metadata": {
        "colab": {
          "base_uri": "https://localhost:8080/"
        },
        "id": "Y-4OD-0Xst0F",
        "outputId": "2f9e2c71-2c1c-491e-8244-3af2b6f21d58"
      },
      "source": [
        "prj_train_95,prj_test_95 = Projecting_Data(0.95,Eigen_val,Eigen_vector,Training_set_Data,Test_set_Data)\n",
        "prj_train_90,prj_test_90 = Projecting_Data(0.9,Eigen_val,Eigen_vector,Training_set_Data,Test_set_Data)\n",
        "prj_train_85,prj_test_85 = Projecting_Data(0.85,Eigen_val,Eigen_vector,Training_set_Data,Test_set_Data)\n",
        "prj_train_80,prj_test_80 = Projecting_Data(0.8,Eigen_val,Eigen_vector,Training_set_Data,Test_set_Data)"
      ],
      "execution_count": null,
      "outputs": [
        {
          "output_type": "stream",
          "text": [
            "Reduced Dimensions: 116\n",
            "Reduced Dimensions: 77\n",
            "Reduced Dimensions: 53\n",
            "Reduced Dimensions: 37\n"
          ],
          "name": "stdout"
        }
      ]
    },
    {
      "cell_type": "markdown",
      "metadata": {
        "id": "fwBIFSXcux1q"
      },
      "source": [
        "# **KNN Classifier**"
      ]
    },
    {
      "cell_type": "code",
      "metadata": {
        "id": "odkRPsDntSEU"
      },
      "source": [
        "def Knn_Classifier_model(k,prj_train,Training_set_labels,prj_test,Test_set_labels,alpha):\n",
        "  model = KNeighborsClassifier(n_neighbors=k)\n",
        "  FitModel = model.fit(prj_train, Training_set_labels)\n",
        "  predictions = model.predict(prj_test)\n",
        "  accuracy = accuracy_score(Test_set_labels, predictions)\n",
        "  print(\"For alpha =\",alpha, \"and k =\",k, \"Accuracy =\",accuracy*100)\n",
        "  return accuracy\n",
        "\n",
        "Accuracy_80_50_50=[]\n",
        "Accuracy_85_50_50=[]\n",
        "Accuracy_90_50_50=[]\n",
        "Accuracy_95_50_50=[]\n",
        "\n",
        "Accuracy_95_50_50.append(Knn_Classifier_model(1,prj_train_95,Training_set_labels,prj_test_95,Test_set_labels,0.95))\n",
        "Accuracy_95_50_50.append(Knn_Classifier_model(3,prj_train_95,Training_set_labels,prj_test_95,Test_set_labels,0.95))\n",
        "Accuracy_95_50_50.append(Knn_Classifier_model(5,prj_train_95,Training_set_labels,prj_test_95,Test_set_labels,0.95))\n",
        "Accuracy_95_50_50.append(Knn_Classifier_model(7,prj_train_95,Training_set_labels,prj_test_95,Test_set_labels,0.95))\n",
        "\n",
        "Accuracy_90_50_50.append(Knn_Classifier_model(1,prj_train_90,Training_set_labels,prj_test_90,Test_set_labels,0.9))\n",
        "Accuracy_90_50_50.append(Knn_Classifier_model(3,prj_train_90,Training_set_labels,prj_test_90,Test_set_labels,0.9))\n",
        "Accuracy_90_50_50.append(Knn_Classifier_model(5,prj_train_90,Training_set_labels,prj_test_90,Test_set_labels,0.9))\n",
        "Accuracy_90_50_50.append(Knn_Classifier_model(7,prj_train_90,Training_set_labels,prj_test_90,Test_set_labels,0.9))\n",
        "\n",
        "Accuracy_85_50_50.append(Knn_Classifier_model(1,prj_train_85,Training_set_labels,prj_test_85,Test_set_labels,0.85))\n",
        "Accuracy_85_50_50.append(Knn_Classifier_model(3,prj_train_85,Training_set_labels,prj_test_85,Test_set_labels,0.85))\n",
        "Accuracy_85_50_50.append(Knn_Classifier_model(5,prj_train_85,Training_set_labels,prj_test_85,Test_set_labels,0.85))\n",
        "Accuracy_85_50_50.append(Knn_Classifier_model(7,prj_train_85,Training_set_labels,prj_test_85,Test_set_labels,0.85))\n",
        "\n",
        "Accuracy_80_50_50.append(Knn_Classifier_model(1,prj_train_80,Training_set_labels,prj_test_80,Test_set_labels,0.8))\n",
        "Accuracy_80_50_50.append(Knn_Classifier_model(3,prj_train_80,Training_set_labels,prj_test_80,Test_set_labels,0.8))\n",
        "Accuracy_80_50_50.append(Knn_Classifier_model(5,prj_train_80,Training_set_labels,prj_test_80,Test_set_labels,0.8))\n",
        "Accuracy_80_50_50.append(Knn_Classifier_model(7,prj_train_80,Training_set_labels,prj_test_80,Test_set_labels,0.8))"
      ],
      "execution_count": null,
      "outputs": []
    },
    {
      "cell_type": "markdown",
      "metadata": {
        "id": "fAuQZPTm5L9B"
      },
      "source": [
        "### **Plot the accuracy against the alpha values**"
      ]
    },
    {
      "cell_type": "code",
      "metadata": {
        "colab": {
          "base_uri": "https://localhost:8080/",
          "height": 265
        },
        "id": "weV8wky55boB",
        "outputId": "a30ccf49-a047-4568-b548-b96d64b58668"
      },
      "source": [
        " \n",
        "alpha_Arr=[0.8,0.85,0.9,0.95]\n",
        "\n",
        "\n",
        "\n",
        "Accuracy_80_50_50 = np.array(Accuracy_80_50_50)\n",
        "Accuracy_85_50_50=np.array(Accuracy_85_50_50)\n",
        "Accuracy_90_50_50=np.array(Accuracy_90_50_50)\n",
        "Accuracy_95_50_50=np.array(Accuracy_95_50_50)\n",
        "\n",
        "alpha_Arr = np.array(alpha_Arr)\n",
        "plt.plot(Accuracy_80_50_50, alpha_Arr,'y')\n",
        "plt.plot(Accuracy_85_50_50, alpha_Arr,'b')\n",
        "plt.plot(Accuracy_90_50_50, alpha_Arr,'g')\n",
        "plt.plot(Accuracy_95_50_50, alpha_Arr,'r')\n",
        "plt.show()\n",
        "  \n",
        "\n"
      ],
      "execution_count": null,
      "outputs": [
        {
          "output_type": "display_data",
          "data": {
            "image/png": "[encoded data removed]",
            "text/plain": [
              "<Figure size 432x288 with 1 Axes>"
            ]
          },
          "metadata": {
            "tags": [],
            "needs_background": "light"
          }
        }
      ]
    },
    {
      "cell_type": "markdown",
      "metadata": {
        "id": "p4J8TQQOzws3"
      },
      "source": [
        "# **Splitting 70/30**"
      ]
    },
    {
      "cell_type": "code",
      "metadata": {
        "id": "dh-DJIOSwq8w"
      },
      "source": [
        "Test_set_Data_b = []\n",
        "Training_set_Data_b =[]\n",
        "Test_set_labels_b = []\n",
        "Training_set_labels_b =[]\n",
        "\n",
        "for i in range (40):\n",
        "  for j in range(7):\n",
        "    Training_set_Data_b.append(vector_x[i*10+j])\n",
        "    Training_set_labels_b.append(vector_y[i*10+j])\n",
        "  for p in range(3):\n",
        "    Test_set_Data_b.append(vector_x[i*10+p+j])\n",
        "    Test_set_labels_b.append(vector_y[i*10+p+j])\n",
        "\n",
        "Test_set_Data_b=np.array(Test_set_Data_b)\n",
        "Test_set_labels_b=np.array(Test_set_labels_b)\n",
        "\n",
        "Training_set_Data_b=np.array(Training_set_Data_b)\n",
        "Training_set_labels_b=np.array(Training_set_labels_b)"
      ],
      "execution_count": null,
      "outputs": []
    },
    {
      "cell_type": "code",
      "metadata": {
        "colab": {
          "base_uri": "https://localhost:8080/"
        },
        "id": "85-cV0ra0Fgv",
        "outputId": "44aeeea5-f33b-449e-f58f-abd7741f1f2d"
      },
      "source": [
        "Eigen_val_b, Eigen_vector_b = Eigen_Generator(Training_set_Data_b)\n",
        "total_Eigen_vals_b = np.sum(abs(Eigen_val_b))\n",
        "print(Eigen_val_b.shape)"
      ],
      "execution_count": null,
      "outputs": [
        {
          "output_type": "stream",
          "text": [
            "(10304,)\n"
          ],
          "name": "stdout"
        }
      ]
    },
    {
      "cell_type": "code",
      "metadata": {
        "id": "Bnh6YEf7-UaK",
        "colab": {
          "base_uri": "https://localhost:8080/"
        },
        "outputId": "3155f8fb-d2af-480c-ed69-af3572b763a7"
      },
      "source": [
        "prj_train_95_b,prj_test_95_b = Projecting_Data(0.95,Eigen_val_b,Eigen_vector_b,Training_set_Data_b,Test_set_Data_b)\n",
        "prj_train_90_b,prj_test_90_b = Projecting_Data(0.9,Eigen_val_b,Eigen_vector_b,Training_set_Data_b,Test_set_Data_b)\n",
        "prj_train_85_b,prj_test_85_b = Projecting_Data(0.85,Eigen_val_b,Eigen_vector_b,Training_set_Data_b,Test_set_Data_b)\n",
        "prj_train_80_b,prj_test_80_b = Projecting_Data(0.8,Eigen_val_b,Eigen_vector_b,Training_set_Data_b,Test_set_Data_b)"
      ],
      "execution_count": null,
      "outputs": [
        {
          "output_type": "stream",
          "text": [
            "Reduced Dimensions: 137\n",
            "Reduced Dimensions: 85\n",
            "Reduced Dimensions: 55\n",
            "Reduced Dimensions: 37\n"
          ],
          "name": "stdout"
        }
      ]
    },
    {
      "cell_type": "code",
      "metadata": {
        "id": "9Wq-Idoy_BEZ"
      },
      "source": [
        "Accuracy_80_70_30=[]\n",
        "Accuracy_85_70_30=[]\n",
        "Accuracy_90_70_30=[]\n",
        "Accuracy_95_70_30=[]\n",
        "Accuracy_95_70_30.append(Knn_Classifier_model(1,prj_train_95_b,Training_set_labels_b,prj_test_95_b,Test_set_labels_b,0.95))\n",
        "Accuracy_95_70_30.append(Knn_Classifier_model(3,prj_train_95_b,Training_set_labels_b,prj_test_95_b,Test_set_labels_b,0.95))\n",
        "Accuracy_95_70_30.append(Knn_Classifier_model(5,prj_train_95_b,Training_set_labels_b,prj_test_95_b,Test_set_labels_b,0.95))\n",
        "Accuracy_95_70_30.append(Knn_Classifier_model(7,prj_train_95_b,Training_set_labels_b,prj_test_95_b,Test_set_labels_b,0.95))\n",
        "\n",
        "Accuracy_90_70_30.append(Knn_Classifier_model(1,prj_train_90_b,Training_set_labels_b,prj_test_90_b,Test_set_labels_b,0.9))\n",
        "Accuracy_90_70_30.append(Knn_Classifier_model(3,prj_train_90_b,Training_set_labels_b,prj_test_90_b,Test_set_labels_b,0.9))\n",
        "Accuracy_90_70_30.append(Knn_Classifier_model(5,prj_train_90_b,Training_set_labels_b,prj_test_90_b,Test_set_labels_b,0.9))\n",
        "Accuracy_90_70_30.append(Knn_Classifier_model(7,prj_train_90_b,Training_set_labels_b,prj_test_90_b,Test_set_labels_b,0.9))\n",
        "\n",
        "Accuracy_85_70_30.append(Knn_Classifier_model(1,prj_train_85_b,Training_set_labels_b,prj_test_85_b,Test_set_labels_b,0.85))\n",
        "Accuracy_85_70_30.append(Knn_Classifier_model(3,prj_train_85_b,Training_set_labels_b,prj_test_85_b,Test_set_labels_b,0.85))\n",
        "Accuracy_85_70_30.append(Knn_Classifier_model(5,prj_train_85_b,Training_set_labels_b,prj_test_85_b,Test_set_labels_b,0.85))\n",
        "Accuracy_85_70_30.append(Knn_Classifier_model(7,prj_train_85_b,Training_set_labels_b,prj_test_85_b,Test_set_labels_b,0.85))\n",
        "\n",
        "Accuracy_80_70_30.append(Knn_Classifier_model(1,prj_train_80_b,Training_set_labels_b,prj_test_80_b,Test_set_labels_b,0.8))\n",
        "Accuracy_80_70_30.append(Knn_Classifier_model(3,prj_train_80_b,Training_set_labels_b,prj_test_80_b,Test_set_labels_b,0.8))\n",
        "Accuracy_80_70_30.append(Knn_Classifier_model(5,prj_train_80_b,Training_set_labels_b,prj_test_80_b,Test_set_labels_b,0.8))\n",
        "Accuracy_80_70_30.append(Knn_Classifier_model(7,prj_train_80_b,Training_set_labels_b,prj_test_80_b,Test_set_labels_b,0.8))"
      ],
      "execution_count": null,
      "outputs": []
    },
    {
      "cell_type": "markdown",
      "metadata": {
        "id": "00s56J7prFhv"
      },
      "source": [
        "### **Plot the accuracy against the alpha values**\n",
        "\n"
      ]
    },
    {
      "cell_type": "code",
      "metadata": {
        "colab": {
          "base_uri": "https://localhost:8080/",
          "height": 265
        },
        "id": "J0-SQcGGrUXS",
        "outputId": "7d9f66c4-9614-4658-a811-af53d586ad58"
      },
      "source": [
        "alpha_Arr=[0.8,0.85,0.9,0.95]\n",
        "\n",
        "\n",
        "Accuracy_80_70_30 = np.array(Accuracy_80_70_30)\n",
        "Accuracy_85_70_30=np.array(Accuracy_85_70_30)\n",
        "Accuracy_90_70_30=np.array(Accuracy_90_70_30)\n",
        "Accuracy_95_70_30=np.array(Accuracy_95_70_30)\n",
        "\n",
        "alpha_Arr = np.array(alpha_Arr)\n",
        "plt.plot(Accuracy_80_70_30, alpha_Arr,'y')\n",
        "plt.plot(Accuracy_85_70_30, alpha_Arr,'b')\n",
        "plt.plot(Accuracy_90_70_30, alpha_Arr,'g')\n",
        "plt.plot(Accuracy_95_70_30, alpha_Arr,'r')\n",
        "plt.show()"
      ],
      "execution_count": null,
      "outputs": [
        {
          "output_type": "display_data",
          "data": {
            "image/png": "[encoded data removed]",
            "text/plain": [
              "<Figure size 432x288 with 1 Axes>"
            ]
          },
          "metadata": {
            "tags": [],
            "needs_background": "light"
          }
        }
      ]
    }
  ]
}